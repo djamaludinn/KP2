{
 "cells": [
  {
   "cell_type": "code",
   "execution_count": 133,
   "metadata": {},
   "outputs": [],
   "source": [
    "import pandas as pd\n",
    "import numpy as np\n",
    "import json\n",
    "import matplotlib.pyplot as plt\n",
    "%matplotlib inline"
   ]
  },
  {
   "cell_type": "code",
   "execution_count": 134,
   "metadata": {},
   "outputs": [],
   "source": [
    "city = pd.read_csv('city.csv')"
   ]
  },
  {
   "cell_type": "markdown",
   "metadata": {},
   "source": [
    "Столбцы и количество строк в таблице city"
   ]
  },
  {
   "cell_type": "code",
   "execution_count": 135,
   "metadata": {},
   "outputs": [
    {
     "data": {
      "text/plain": [
       "Index(['address', 'postal_code', 'country', 'federal_district', 'region_type',\n",
       "       'region', 'area_type', 'area', 'city_type', 'city', 'settlement_type',\n",
       "       'settlement', 'kladr_id', 'fias_id', 'fias_level', 'capital_marker',\n",
       "       'okato', 'oktmo', 'tax_office', 'timezone', 'geo_lat', 'geo_lon',\n",
       "       'population', 'foundation_year'],\n",
       "      dtype='object')"
      ]
     },
     "execution_count": 135,
     "metadata": {},
     "output_type": "execute_result"
    }
   ],
   "source": [
    "city.columns"
   ]
  },
  {
   "cell_type": "code",
   "execution_count": 136,
   "metadata": {},
   "outputs": [
    {
     "data": {
      "text/plain": [
       "1117"
      ]
     },
     "execution_count": 136,
     "metadata": {},
     "output_type": "execute_result"
    }
   ],
   "source": [
    "len(city)"
   ]
  },
  {
   "cell_type": "markdown",
   "metadata": {},
   "source": [
    "Узнали самое длинное название города в таблице"
   ]
  },
  {
   "cell_type": "code",
   "execution_count": 137,
   "metadata": {
    "scrolled": false
   },
   "outputs": [
    {
     "name": "stdout",
     "output_type": "stream",
     "text": [
      "Самое длинное название города в таблице имеет 12 символов\n"
     ]
    }
   ],
   "source": [
    "q=[]\n",
    "for i in city[\"city\"]:\n",
    "    i = str(i)\n",
    "    q.append(i)\n",
    "print(f'Самое длинное название города в таблице имеет {len(max(list, key=len))} символов')"
   ]
  },
  {
   "cell_type": "markdown",
   "metadata": {},
   "source": [
    "Количество городов для каждого часового пояса в Сибирском и Приволжском федеральных округах\n",
    "Ответ: 58"
   ]
  },
  {
   "cell_type": "code",
   "execution_count": 138,
   "metadata": {
    "scrolled": false
   },
   "outputs": [
    {
     "data": {
      "text/html": [
       "<div>\n",
       "<style scoped>\n",
       "    .dataframe tbody tr th:only-of-type {\n",
       "        vertical-align: middle;\n",
       "    }\n",
       "\n",
       "    .dataframe tbody tr th {\n",
       "        vertical-align: top;\n",
       "    }\n",
       "\n",
       "    .dataframe thead th {\n",
       "        text-align: right;\n",
       "    }\n",
       "</style>\n",
       "<table border=\"1\" class=\"dataframe\">\n",
       "  <thead>\n",
       "    <tr style=\"text-align: right;\">\n",
       "      <th></th>\n",
       "      <th>Количество городов</th>\n",
       "    </tr>\n",
       "    <tr>\n",
       "      <th>timezone</th>\n",
       "      <th></th>\n",
       "    </tr>\n",
       "  </thead>\n",
       "  <tbody>\n",
       "    <tr>\n",
       "      <th>UTC+3</th>\n",
       "      <td>101</td>\n",
       "    </tr>\n",
       "    <tr>\n",
       "      <th>UTC+4</th>\n",
       "      <td>41</td>\n",
       "    </tr>\n",
       "    <tr>\n",
       "      <th>UTC+5</th>\n",
       "      <td>58</td>\n",
       "    </tr>\n",
       "    <tr>\n",
       "      <th>UTC+6</th>\n",
       "      <td>6</td>\n",
       "    </tr>\n",
       "    <tr>\n",
       "      <th>UTC+7</th>\n",
       "      <td>86</td>\n",
       "    </tr>\n",
       "    <tr>\n",
       "      <th>UTC+8</th>\n",
       "      <td>22</td>\n",
       "    </tr>\n",
       "  </tbody>\n",
       "</table>\n",
       "</div>"
      ],
      "text/plain": [
       "          Количество городов\n",
       "timezone                    \n",
       "UTC+3                    101\n",
       "UTC+4                     41\n",
       "UTC+5                     58\n",
       "UTC+6                      6\n",
       "UTC+7                     86\n",
       "UTC+8                     22"
      ]
     },
     "execution_count": 138,
     "metadata": {},
     "output_type": "execute_result"
    }
   ],
   "source": [
    "time = city[city['federal_district'].isin(['Приволжский', 'Сибирский'])]\n",
    "time[['timezone','address']].groupby('timezone').count().rename({'address': 'Количество городов'}, axis=1)"
   ]
  },
  {
   "cell_type": "markdown",
   "metadata": {},
   "source": [
    "Количество городов в каждом часовом поясе, отсортированное по убыванию."
   ]
  },
  {
   "cell_type": "code",
   "execution_count": 139,
   "metadata": {},
   "outputs": [
    {
     "data": {
      "text/html": [
       "<div>\n",
       "<style scoped>\n",
       "    .dataframe tbody tr th:only-of-type {\n",
       "        vertical-align: middle;\n",
       "    }\n",
       "\n",
       "    .dataframe tbody tr th {\n",
       "        vertical-align: top;\n",
       "    }\n",
       "\n",
       "    .dataframe thead th {\n",
       "        text-align: right;\n",
       "    }\n",
       "</style>\n",
       "<table border=\"1\" class=\"dataframe\">\n",
       "  <thead>\n",
       "    <tr style=\"text-align: right;\">\n",
       "      <th></th>\n",
       "      <th>Количество городов</th>\n",
       "    </tr>\n",
       "    <tr>\n",
       "      <th>timezone</th>\n",
       "      <th></th>\n",
       "    </tr>\n",
       "  </thead>\n",
       "  <tbody>\n",
       "    <tr>\n",
       "      <th>UTC+3</th>\n",
       "      <td>660</td>\n",
       "    </tr>\n",
       "    <tr>\n",
       "      <th>UTC+5</th>\n",
       "      <td>173</td>\n",
       "    </tr>\n",
       "    <tr>\n",
       "      <th>UTC+7</th>\n",
       "      <td>86</td>\n",
       "    </tr>\n",
       "    <tr>\n",
       "      <th>UTC+4</th>\n",
       "      <td>66</td>\n",
       "    </tr>\n",
       "    <tr>\n",
       "      <th>UTC+9</th>\n",
       "      <td>31</td>\n",
       "    </tr>\n",
       "    <tr>\n",
       "      <th>UTC+8</th>\n",
       "      <td>28</td>\n",
       "    </tr>\n",
       "    <tr>\n",
       "      <th>UTC+10</th>\n",
       "      <td>22</td>\n",
       "    </tr>\n",
       "    <tr>\n",
       "      <th>UTC+2</th>\n",
       "      <td>22</td>\n",
       "    </tr>\n",
       "    <tr>\n",
       "      <th>UTC+11</th>\n",
       "      <td>17</td>\n",
       "    </tr>\n",
       "    <tr>\n",
       "      <th>UTC+12</th>\n",
       "      <td>6</td>\n",
       "    </tr>\n",
       "    <tr>\n",
       "      <th>UTC+6</th>\n",
       "      <td>6</td>\n",
       "    </tr>\n",
       "  </tbody>\n",
       "</table>\n",
       "</div>"
      ],
      "text/plain": [
       "          Количество городов\n",
       "timezone                    \n",
       "UTC+3                    660\n",
       "UTC+5                    173\n",
       "UTC+7                     86\n",
       "UTC+4                     66\n",
       "UTC+9                     31\n",
       "UTC+8                     28\n",
       "UTC+10                    22\n",
       "UTC+2                     22\n",
       "UTC+11                    17\n",
       "UTC+12                     6\n",
       "UTC+6                      6"
      ]
     },
     "execution_count": 139,
     "metadata": {},
     "output_type": "execute_result"
    }
   ],
   "source": [
    "q = city[['timezone','address']].groupby('timezone').count().sort_values('address', ascending=False)\n",
    "q.rename({'address': 'Количество городов'}, axis=1)\n"
   ]
  },
  {
   "cell_type": "markdown",
   "metadata": {},
   "source": [
    "Индивидуальное задание"
   ]
  },
  {
   "cell_type": "code",
   "execution_count": 140,
   "metadata": {},
   "outputs": [
    {
     "data": {
      "text/html": [
       "<div>\n",
       "<style scoped>\n",
       "    .dataframe tbody tr th:only-of-type {\n",
       "        vertical-align: middle;\n",
       "    }\n",
       "\n",
       "    .dataframe tbody tr th {\n",
       "        vertical-align: top;\n",
       "    }\n",
       "\n",
       "    .dataframe thead th {\n",
       "        text-align: right;\n",
       "    }\n",
       "</style>\n",
       "<table border=\"1\" class=\"dataframe\">\n",
       "  <thead>\n",
       "    <tr style=\"text-align: right;\">\n",
       "      <th></th>\n",
       "      <th>Date</th>\n",
       "      <th>Open</th>\n",
       "      <th>High</th>\n",
       "      <th>Low</th>\n",
       "      <th>Close</th>\n",
       "      <th>Adj Close</th>\n",
       "      <th>Volume</th>\n",
       "    </tr>\n",
       "  </thead>\n",
       "  <tbody>\n",
       "    <tr>\n",
       "      <th>0</th>\n",
       "      <td>2014-09-17</td>\n",
       "      <td>465.864014</td>\n",
       "      <td>468.174011</td>\n",
       "      <td>452.421997</td>\n",
       "      <td>457.334015</td>\n",
       "      <td>457.334015</td>\n",
       "      <td>2.105680e+07</td>\n",
       "    </tr>\n",
       "    <tr>\n",
       "      <th>1</th>\n",
       "      <td>2014-09-18</td>\n",
       "      <td>456.859985</td>\n",
       "      <td>456.859985</td>\n",
       "      <td>413.104004</td>\n",
       "      <td>424.440002</td>\n",
       "      <td>424.440002</td>\n",
       "      <td>3.448320e+07</td>\n",
       "    </tr>\n",
       "    <tr>\n",
       "      <th>2</th>\n",
       "      <td>2014-09-19</td>\n",
       "      <td>424.102997</td>\n",
       "      <td>427.834991</td>\n",
       "      <td>384.532013</td>\n",
       "      <td>394.795990</td>\n",
       "      <td>394.795990</td>\n",
       "      <td>3.791970e+07</td>\n",
       "    </tr>\n",
       "    <tr>\n",
       "      <th>3</th>\n",
       "      <td>2014-09-20</td>\n",
       "      <td>394.673004</td>\n",
       "      <td>423.295990</td>\n",
       "      <td>389.882996</td>\n",
       "      <td>408.903992</td>\n",
       "      <td>408.903992</td>\n",
       "      <td>3.686360e+07</td>\n",
       "    </tr>\n",
       "    <tr>\n",
       "      <th>4</th>\n",
       "      <td>2014-09-21</td>\n",
       "      <td>408.084991</td>\n",
       "      <td>412.425995</td>\n",
       "      <td>393.181000</td>\n",
       "      <td>398.821014</td>\n",
       "      <td>398.821014</td>\n",
       "      <td>2.658010e+07</td>\n",
       "    </tr>\n",
       "    <tr>\n",
       "      <th>...</th>\n",
       "      <td>...</td>\n",
       "      <td>...</td>\n",
       "      <td>...</td>\n",
       "      <td>...</td>\n",
       "      <td>...</td>\n",
       "      <td>...</td>\n",
       "      <td>...</td>\n",
       "    </tr>\n",
       "    <tr>\n",
       "      <th>2582</th>\n",
       "      <td>2021-10-12</td>\n",
       "      <td>57526.832031</td>\n",
       "      <td>57627.878906</td>\n",
       "      <td>54477.972656</td>\n",
       "      <td>56041.058594</td>\n",
       "      <td>56041.058594</td>\n",
       "      <td>4.108376e+10</td>\n",
       "    </tr>\n",
       "    <tr>\n",
       "      <th>2583</th>\n",
       "      <td>2021-10-13</td>\n",
       "      <td>56038.257813</td>\n",
       "      <td>57688.660156</td>\n",
       "      <td>54370.972656</td>\n",
       "      <td>57401.097656</td>\n",
       "      <td>57401.097656</td>\n",
       "      <td>4.168425e+10</td>\n",
       "    </tr>\n",
       "    <tr>\n",
       "      <th>2584</th>\n",
       "      <td>2021-10-14</td>\n",
       "      <td>57372.832031</td>\n",
       "      <td>58478.734375</td>\n",
       "      <td>56957.074219</td>\n",
       "      <td>57321.523438</td>\n",
       "      <td>57321.523438</td>\n",
       "      <td>3.661579e+10</td>\n",
       "    </tr>\n",
       "    <tr>\n",
       "      <th>2585</th>\n",
       "      <td>2021-10-15</td>\n",
       "      <td>57345.902344</td>\n",
       "      <td>62757.128906</td>\n",
       "      <td>56868.144531</td>\n",
       "      <td>61593.949219</td>\n",
       "      <td>61593.949219</td>\n",
       "      <td>5.178008e+10</td>\n",
       "    </tr>\n",
       "    <tr>\n",
       "      <th>2586</th>\n",
       "      <td>2021-10-16</td>\n",
       "      <td>61495.410156</td>\n",
       "      <td>62232.257813</td>\n",
       "      <td>61110.839844</td>\n",
       "      <td>61628.851563</td>\n",
       "      <td>61628.851563</td>\n",
       "      <td>4.469134e+10</td>\n",
       "    </tr>\n",
       "  </tbody>\n",
       "</table>\n",
       "<p>2587 rows × 7 columns</p>\n",
       "</div>"
      ],
      "text/plain": [
       "            Date          Open          High           Low         Close  \\\n",
       "0     2014-09-17    465.864014    468.174011    452.421997    457.334015   \n",
       "1     2014-09-18    456.859985    456.859985    413.104004    424.440002   \n",
       "2     2014-09-19    424.102997    427.834991    384.532013    394.795990   \n",
       "3     2014-09-20    394.673004    423.295990    389.882996    408.903992   \n",
       "4     2014-09-21    408.084991    412.425995    393.181000    398.821014   \n",
       "...          ...           ...           ...           ...           ...   \n",
       "2582  2021-10-12  57526.832031  57627.878906  54477.972656  56041.058594   \n",
       "2583  2021-10-13  56038.257813  57688.660156  54370.972656  57401.097656   \n",
       "2584  2021-10-14  57372.832031  58478.734375  56957.074219  57321.523438   \n",
       "2585  2021-10-15  57345.902344  62757.128906  56868.144531  61593.949219   \n",
       "2586  2021-10-16  61495.410156  62232.257813  61110.839844  61628.851563   \n",
       "\n",
       "         Adj Close        Volume  \n",
       "0       457.334015  2.105680e+07  \n",
       "1       424.440002  3.448320e+07  \n",
       "2       394.795990  3.791970e+07  \n",
       "3       408.903992  3.686360e+07  \n",
       "4       398.821014  2.658010e+07  \n",
       "...            ...           ...  \n",
       "2582  56041.058594  4.108376e+10  \n",
       "2583  57401.097656  4.168425e+10  \n",
       "2584  57321.523438  3.661579e+10  \n",
       "2585  61593.949219  5.178008e+10  \n",
       "2586  61628.851563  4.469134e+10  \n",
       "\n",
       "[2587 rows x 7 columns]"
      ]
     },
     "execution_count": 140,
     "metadata": {},
     "output_type": "execute_result"
    }
   ],
   "source": [
    "bitcoin = pd.read_csv('btc.csv')\n",
    "bitcoin"
   ]
  },
  {
   "cell_type": "code",
   "execution_count": 141,
   "metadata": {},
   "outputs": [
    {
     "data": {
      "text/plain": [
       "2587"
      ]
     },
     "execution_count": 141,
     "metadata": {},
     "output_type": "execute_result"
    }
   ],
   "source": [
    "len(bitcoin)"
   ]
  },
  {
   "cell_type": "code",
   "execution_count": 142,
   "metadata": {},
   "outputs": [
    {
     "data": {
      "text/plain": [
       "Index(['Date', 'Open', 'High', 'Low', 'Close', 'Adj Close', 'Volume'], dtype='object')"
      ]
     },
     "execution_count": 142,
     "metadata": {},
     "output_type": "execute_result"
    }
   ],
   "source": [
    "bitcoin.columns"
   ]
  },
  {
   "cell_type": "markdown",
   "metadata": {},
   "source": [
    "В эти дни открытие торгов началось со стоимости от 55000 до 57000 долларов: "
   ]
  },
  {
   "cell_type": "code",
   "execution_count": 143,
   "metadata": {},
   "outputs": [
    {
     "data": {
      "text/html": [
       "<div>\n",
       "<style scoped>\n",
       "    .dataframe tbody tr th:only-of-type {\n",
       "        vertical-align: middle;\n",
       "    }\n",
       "\n",
       "    .dataframe tbody tr th {\n",
       "        vertical-align: top;\n",
       "    }\n",
       "\n",
       "    .dataframe thead th {\n",
       "        text-align: right;\n",
       "    }\n",
       "</style>\n",
       "<table border=\"1\" class=\"dataframe\">\n",
       "  <thead>\n",
       "    <tr style=\"text-align: right;\">\n",
       "      <th></th>\n",
       "      <th>Date</th>\n",
       "      <th>Open</th>\n",
       "    </tr>\n",
       "  </thead>\n",
       "  <tbody>\n",
       "    <tr>\n",
       "      <th>2348</th>\n",
       "      <td>2021-02-20</td>\n",
       "      <td>55887.335938</td>\n",
       "    </tr>\n",
       "    <tr>\n",
       "      <th>2349</th>\n",
       "      <td>2021-02-21</td>\n",
       "      <td>56068.566406</td>\n",
       "    </tr>\n",
       "    <tr>\n",
       "      <th>2367</th>\n",
       "      <td>2021-03-11</td>\n",
       "      <td>55963.179688</td>\n",
       "    </tr>\n",
       "    <tr>\n",
       "      <th>2372</th>\n",
       "      <td>2021-03-16</td>\n",
       "      <td>55840.785156</td>\n",
       "    </tr>\n",
       "    <tr>\n",
       "      <th>2373</th>\n",
       "      <td>2021-03-17</td>\n",
       "      <td>56825.828125</td>\n",
       "    </tr>\n",
       "    <tr>\n",
       "      <th>2383</th>\n",
       "      <td>2021-03-27</td>\n",
       "      <td>55137.566406</td>\n",
       "    </tr>\n",
       "    <tr>\n",
       "      <th>2384</th>\n",
       "      <td>2021-03-28</td>\n",
       "      <td>55974.941406</td>\n",
       "    </tr>\n",
       "    <tr>\n",
       "      <th>2385</th>\n",
       "      <td>2021-03-29</td>\n",
       "      <td>55947.898438</td>\n",
       "    </tr>\n",
       "    <tr>\n",
       "      <th>2395</th>\n",
       "      <td>2021-04-08</td>\n",
       "      <td>56099.914063</td>\n",
       "    </tr>\n",
       "    <tr>\n",
       "      <th>2406</th>\n",
       "      <td>2021-04-19</td>\n",
       "      <td>56191.585938</td>\n",
       "    </tr>\n",
       "    <tr>\n",
       "      <th>2407</th>\n",
       "      <td>2021-04-20</td>\n",
       "      <td>55681.792969</td>\n",
       "    </tr>\n",
       "    <tr>\n",
       "      <th>2408</th>\n",
       "      <td>2021-04-21</td>\n",
       "      <td>56471.128906</td>\n",
       "    </tr>\n",
       "    <tr>\n",
       "      <th>2415</th>\n",
       "      <td>2021-04-28</td>\n",
       "      <td>55036.636719</td>\n",
       "    </tr>\n",
       "    <tr>\n",
       "      <th>2420</th>\n",
       "      <td>2021-05-03</td>\n",
       "      <td>56620.273438</td>\n",
       "    </tr>\n",
       "    <tr>\n",
       "      <th>2424</th>\n",
       "      <td>2021-05-07</td>\n",
       "      <td>56413.953125</td>\n",
       "    </tr>\n",
       "    <tr>\n",
       "      <th>2428</th>\n",
       "      <td>2021-05-11</td>\n",
       "      <td>55847.242188</td>\n",
       "    </tr>\n",
       "    <tr>\n",
       "      <th>2429</th>\n",
       "      <td>2021-05-12</td>\n",
       "      <td>56714.531250</td>\n",
       "    </tr>\n",
       "    <tr>\n",
       "      <th>2577</th>\n",
       "      <td>2021-10-07</td>\n",
       "      <td>55338.625000</td>\n",
       "    </tr>\n",
       "    <tr>\n",
       "      <th>2583</th>\n",
       "      <td>2021-10-13</td>\n",
       "      <td>56038.257813</td>\n",
       "    </tr>\n",
       "  </tbody>\n",
       "</table>\n",
       "</div>"
      ],
      "text/plain": [
       "            Date          Open\n",
       "2348  2021-02-20  55887.335938\n",
       "2349  2021-02-21  56068.566406\n",
       "2367  2021-03-11  55963.179688\n",
       "2372  2021-03-16  55840.785156\n",
       "2373  2021-03-17  56825.828125\n",
       "2383  2021-03-27  55137.566406\n",
       "2384  2021-03-28  55974.941406\n",
       "2385  2021-03-29  55947.898438\n",
       "2395  2021-04-08  56099.914063\n",
       "2406  2021-04-19  56191.585938\n",
       "2407  2021-04-20  55681.792969\n",
       "2408  2021-04-21  56471.128906\n",
       "2415  2021-04-28  55036.636719\n",
       "2420  2021-05-03  56620.273438\n",
       "2424  2021-05-07  56413.953125\n",
       "2428  2021-05-11  55847.242188\n",
       "2429  2021-05-12  56714.531250\n",
       "2577  2021-10-07  55338.625000\n",
       "2583  2021-10-13  56038.257813"
      ]
     },
     "execution_count": 143,
     "metadata": {},
     "output_type": "execute_result"
    }
   ],
   "source": [
    "o = bitcoin[bitcoin['Open'].between(55000, 57000)]\n",
    "o[['Date', 'Open']]"
   ]
  },
  {
   "cell_type": "markdown",
   "metadata": {},
   "source": [
    "Наибольшая стоимость на каждые сутки начиная с 17.09.2014"
   ]
  },
  {
   "cell_type": "code",
   "execution_count": 144,
   "metadata": {},
   "outputs": [
    {
     "data": {
      "text/html": [
       "<div>\n",
       "<style scoped>\n",
       "    .dataframe tbody tr th:only-of-type {\n",
       "        vertical-align: middle;\n",
       "    }\n",
       "\n",
       "    .dataframe tbody tr th {\n",
       "        vertical-align: top;\n",
       "    }\n",
       "\n",
       "    .dataframe thead th {\n",
       "        text-align: right;\n",
       "    }\n",
       "</style>\n",
       "<table border=\"1\" class=\"dataframe\">\n",
       "  <thead>\n",
       "    <tr style=\"text-align: right;\">\n",
       "      <th></th>\n",
       "      <th>Максимальная стоимость bitcoin</th>\n",
       "    </tr>\n",
       "    <tr>\n",
       "      <th>Date</th>\n",
       "      <th></th>\n",
       "    </tr>\n",
       "  </thead>\n",
       "  <tbody>\n",
       "    <tr>\n",
       "      <th>2014-09-17</th>\n",
       "      <td>468.174011</td>\n",
       "    </tr>\n",
       "    <tr>\n",
       "      <th>2014-09-18</th>\n",
       "      <td>456.859985</td>\n",
       "    </tr>\n",
       "    <tr>\n",
       "      <th>2014-09-19</th>\n",
       "      <td>427.834991</td>\n",
       "    </tr>\n",
       "    <tr>\n",
       "      <th>2014-09-20</th>\n",
       "      <td>423.295990</td>\n",
       "    </tr>\n",
       "    <tr>\n",
       "      <th>2014-09-21</th>\n",
       "      <td>412.425995</td>\n",
       "    </tr>\n",
       "    <tr>\n",
       "      <th>...</th>\n",
       "      <td>...</td>\n",
       "    </tr>\n",
       "    <tr>\n",
       "      <th>2021-10-12</th>\n",
       "      <td>57627.878906</td>\n",
       "    </tr>\n",
       "    <tr>\n",
       "      <th>2021-10-13</th>\n",
       "      <td>57688.660156</td>\n",
       "    </tr>\n",
       "    <tr>\n",
       "      <th>2021-10-14</th>\n",
       "      <td>58478.734375</td>\n",
       "    </tr>\n",
       "    <tr>\n",
       "      <th>2021-10-15</th>\n",
       "      <td>62757.128906</td>\n",
       "    </tr>\n",
       "    <tr>\n",
       "      <th>2021-10-16</th>\n",
       "      <td>62232.257813</td>\n",
       "    </tr>\n",
       "  </tbody>\n",
       "</table>\n",
       "<p>2587 rows × 1 columns</p>\n",
       "</div>"
      ],
      "text/plain": [
       "            Максимальная стоимость bitcoin\n",
       "Date                                      \n",
       "2014-09-17                      468.174011\n",
       "2014-09-18                      456.859985\n",
       "2014-09-19                      427.834991\n",
       "2014-09-20                      423.295990\n",
       "2014-09-21                      412.425995\n",
       "...                                    ...\n",
       "2021-10-12                    57627.878906\n",
       "2021-10-13                    57688.660156\n",
       "2021-10-14                    58478.734375\n",
       "2021-10-15                    62757.128906\n",
       "2021-10-16                    62232.257813\n",
       "\n",
       "[2587 rows x 1 columns]"
      ]
     },
     "execution_count": 144,
     "metadata": {},
     "output_type": "execute_result"
    }
   ],
   "source": [
    "d = weather[['Date','High']].groupby('Date')\n",
    "h = d.max()\n",
    "h.rename({'High':'Максимальная стоимость bitcoin'}, axis=1)"
   ]
  },
  {
   "cell_type": "markdown",
   "metadata": {},
   "source": [
    "Случаи когда торги закрывались на определенной стоимости. Сохранено в csv файл"
   ]
  },
  {
   "cell_type": "code",
   "execution_count": 149,
   "metadata": {},
   "outputs": [],
   "source": [
    "a = bitcoin[bitcoin['Close'].isin(['408.903992'])]\n",
    "a = a[['Date','Close', 'Volume']]\n",
    "a.to_csv('close.csv' ,encoding='utf-8', index=False, sep='|')"
   ]
  },
  {
   "cell_type": "markdown",
   "metadata": {},
   "source": [
    "Показатели на 16.10.2021г представленные в формат json"
   ]
  },
  {
   "cell_type": "code",
   "execution_count": 146,
   "metadata": {},
   "outputs": [],
   "source": [
    "today = bitcoin[bitcoin['Date'].isin(['2021-10-16'])]\n",
    "today = today[['Open','High','Low','Close','Volume']]\n",
    "result = today.to_json(orient=\"records\")\n",
    "parsed = json.loads(result)\n"
   ]
  },
  {
   "cell_type": "markdown",
   "metadata": {},
   "source": [
    "Показатели на 16.10.2021г"
   ]
  },
  {
   "cell_type": "code",
   "execution_count": 147,
   "metadata": {},
   "outputs": [
    {
     "data": {
      "text/html": [
       "<div>\n",
       "<style scoped>\n",
       "    .dataframe tbody tr th:only-of-type {\n",
       "        vertical-align: middle;\n",
       "    }\n",
       "\n",
       "    .dataframe tbody tr th {\n",
       "        vertical-align: top;\n",
       "    }\n",
       "\n",
       "    .dataframe thead th {\n",
       "        text-align: right;\n",
       "    }\n",
       "</style>\n",
       "<table border=\"1\" class=\"dataframe\">\n",
       "  <thead>\n",
       "    <tr style=\"text-align: right;\">\n",
       "      <th></th>\n",
       "      <th>Open</th>\n",
       "      <th>High</th>\n",
       "      <th>Low</th>\n",
       "      <th>Close</th>\n",
       "      <th>Volume</th>\n",
       "    </tr>\n",
       "  </thead>\n",
       "  <tbody>\n",
       "    <tr>\n",
       "      <th>2586</th>\n",
       "      <td>61495.410156</td>\n",
       "      <td>62232.257813</td>\n",
       "      <td>61110.839844</td>\n",
       "      <td>61628.851563</td>\n",
       "      <td>4.469134e+10</td>\n",
       "    </tr>\n",
       "  </tbody>\n",
       "</table>\n",
       "</div>"
      ],
      "text/plain": [
       "              Open          High           Low         Close        Volume\n",
       "2586  61495.410156  62232.257813  61110.839844  61628.851563  4.469134e+10"
      ]
     },
     "execution_count": 147,
     "metadata": {},
     "output_type": "execute_result"
    }
   ],
   "source": [
    "today = bitcoin[bitcoin['Date'].isin(['2021-10-16'])]\n",
    "today = today[['Open','High','Low','Close','Volume']]\n",
    "today"
   ]
  },
  {
   "cell_type": "markdown",
   "metadata": {},
   "source": [
    "Самая большая стоимость за все время:"
   ]
  },
  {
   "cell_type": "code",
   "execution_count": 148,
   "metadata": {},
   "outputs": [
    {
     "name": "stdout",
     "output_type": "stream",
     "text": [
      "Самая большая стоимость за все время состоит из 12 символов\n"
     ]
    }
   ],
   "source": [
    "list=[]\n",
    "for c in bitcoin[\"High\"]:\n",
    "    c = str(c)\n",
    "    list.append(c)\n",
    "print(f'Самая большая стоимость за все время состоит из {len(max(list, key=len))} символов')"
   ]
  },
  {
   "cell_type": "code",
   "execution_count": null,
   "metadata": {},
   "outputs": [],
   "source": []
  }
 ],
 "metadata": {
  "kernelspec": {
   "display_name": "Python 3",
   "language": "python",
   "name": "python3"
  },
  "language_info": {
   "codemirror_mode": {
    "name": "ipython",
    "version": 3
   },
   "file_extension": ".py",
   "mimetype": "text/x-python",
   "name": "python",
   "nbconvert_exporter": "python",
   "pygments_lexer": "ipython3",
   "version": "3.8.8"
  }
 },
 "nbformat": 4,
 "nbformat_minor": 4
}
